{
 "cells": [
  {
   "cell_type": "markdown",
   "id": "2074a123",
   "metadata": {},
   "source": [
    "       Scheduling and automating code via Airflow can be done with this program. This is a general source-code, since \n",
    "       the task never asked to automate the pipeline specifially, I didn't do it. I am also partially new to Airflow\n",
    "       (started learning 1.5 week before), which is why I am not an expert at the moment to complete the whole task\n",
    "       with Airflow, in 2 weeks from today I will be much better with dags. I have still written this for keeping in mind \n",
    "       the structure of the pipeline in my main code (75-61-25)\n",
    "                    "
   ]
  },
  {
   "cell_type": "code",
   "execution_count": 11,
   "id": "6fb71b1e",
   "metadata": {},
   "outputs": [],
   "source": [
    "#importing libraries\n",
    "import time\n",
    "from datetime import datetime\n",
    "#from airflow.models.dag import DAG\n",
    "#from airflow.decorators import task\n",
    "#from airflow.utils.task_group import TaskGroup\n",
    "#from airflow.providers.microsoft.mssql.hooks.mssql import MsSqlHook\n",
    "#from airflow.hooks.base_hook import BaseHook\n",
    "#import pandas as pd\n",
    "#from sqlalchemy import create_engine"
   ]
  },
  {
   "cell_type": "code",
   "execution_count": 13,
   "id": "6dfc7dc3",
   "metadata": {},
   "outputs": [],
   "source": [
    "#extract()\n",
    "#task()\n",
    "def extract():\n",
    "    #connection defined in airflow\n",
    "    hook= MsSqlHook(mssql_conn_id=\"sqlserver\")\n",
    "    #sql to get tables like previous script\n",
    "    sql=\"\"\" SELECT t.name as table_name from sys.tables t where t.name in\n",
    "    ('df_contracts1','df_products1','df_prices1')\"\"\"\n",
    "    #saving in df variable\n",
    "    df= hook.get_pandas_df(sql)\n",
    "    #print(df)\n",
    "    #since we can only share serial data, I have converted it to dictionary\n",
    "    tbl_dict=df.to_dict('dict')\n",
    "    return tbl_dict"
   ]
  },
  {
   "cell_type": "code",
   "execution_count": 20,
   "id": "b7a13cef",
   "metadata": {},
   "outputs": [],
   "source": [
    "#task()\n",
    "def load():\n",
    "    #Saving connection in conn variable\n",
    "    conn = Basehook.get_connection('postgres')\n",
    "    engine = create_engine(f'postgresql://{conn.login}:{conn.password}@{conn.host}:{conn.port}/{conn.schema}')\n",
    "    all_tbl_name = []\n",
    "    start_time = time.time()\n",
    "    #access to tables defined in dictionaries\n",
    "    for i,j in tbl_dict['table_name'].items():\n",
    "        #print(v)\n",
    "        all_tbl_name.append(v)\n",
    "        rows_imported = 0\n",
    "        sql = f'select * FROM {v}'\n",
    "        hook = MsSqlHook(mssql_conn_id = \"sqlserver\")\n",
    "        df = hook.get_pandas_df(sql)\n",
    "        print(f'importing rows {rows_imported} to {rows_imported + len(df)}...for table{v}')\n",
    "        df.to_sql(f'stg_{v}',engine, if_exists = 'replace', index= False)\n",
    "        rows_imported += len(df)\n",
    "        print(f'Done. {str(round(time.time() - start_time,2))} total seconds elapsed')\n",
    "    print(\"Data imported successfully:\")\n",
    "    return all_tbl_name\n",
    "    \n",
    "    "
   ]
  }
 ],
 "metadata": {
  "kernelspec": {
   "display_name": "Python 3 (ipykernel)",
   "language": "python",
   "name": "python3"
  },
  "language_info": {
   "codemirror_mode": {
    "name": "ipython",
    "version": 3
   },
   "file_extension": ".py",
   "mimetype": "text/x-python",
   "name": "python",
   "nbconvert_exporter": "python",
   "pygments_lexer": "ipython3",
   "version": "3.9.6"
  }
 },
 "nbformat": 4,
 "nbformat_minor": 5
}
